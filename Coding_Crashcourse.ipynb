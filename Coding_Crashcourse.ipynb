{
  "nbformat": 4,
  "nbformat_minor": 0,
  "metadata": {
    "colab": {
      "name": "Coding_Crashcourse.ipynb",
      "provenance": [],
      "include_colab_link": true
    },
    "kernelspec": {
      "name": "python3",
      "display_name": "Python 3"
    }
  },
  "cells": [
    {
      "cell_type": "markdown",
      "metadata": {
        "id": "view-in-github",
        "colab_type": "text"
      },
      "source": [
        "<a href=\"https://colab.research.google.com/github/WahlerP/WahlerP.github.io/blob/main/Coding_Crashcourse.ipynb\" target=\"_parent\"><img src=\"https://colab.research.google.com/assets/colab-badge.svg\" alt=\"Open In Colab\"/></a>"
      ]
    },
    {
      "cell_type": "markdown",
      "metadata": {
        "id": "VCRfaLIheW2k"
      },
      "source": [
        "# **VARIABLES**\n",
        "Variables are used to store values (e.g. a number or a string of text). For example, we can store a name in a variable called `myName`. Later, we can access or edit the value that is stored in this variable.\n",
        "\n",
        "Let's try it out:\n"
      ]
    },
    {
      "cell_type": "code",
      "metadata": {
        "id": "AS1iP0jIbzli",
        "cellView": "both",
        "colab": {
          "base_uri": "https://localhost:8080/",
          "height": 35
        },
        "outputId": "c2deaa76-d193-47e3-cbeb-94cd6ffca995"
      },
      "source": [
        "myName = \"Kevin\"\n",
        "print(myName)"
      ],
      "execution_count": null,
      "outputs": [
        {
          "output_type": "stream",
          "text": [
            "Kevin\n"
          ],
          "name": "stdout"
        }
      ]
    },
    {
      "cell_type": "markdown",
      "metadata": {
        "id": "ZHsvR8fhfLXU"
      },
      "source": [
        "Variable names can be chosen quite freely as long as they don't start with a number or contain some special characters. Moreover, variable names cannot be Python-specific keywords such as `False, True, str, int, for  `or`  if`.\n"
      ]
    },
    {
      "cell_type": "code",
      "metadata": {
        "id": "8dc4err3fJBC",
        "colab": {
          "base_uri": "https://localhost:8080/",
          "height": 132
        },
        "outputId": "777107b0-109c-4460-b328-9c6d0b7c2159"
      },
      "source": [
        "False = \"Kevin\"\n",
        "print(False)"
      ],
      "execution_count": null,
      "outputs": [
        {
          "output_type": "error",
          "ename": "SyntaxError",
          "evalue": "ignored",
          "traceback": [
            "\u001b[0;36m  File \u001b[0;32m\"<ipython-input-5-260663bb18ce>\"\u001b[0;36m, line \u001b[0;32m1\u001b[0m\n\u001b[0;31m    False = \"Kevin\"\u001b[0m\n\u001b[0m                   ^\u001b[0m\n\u001b[0;31mSyntaxError\u001b[0m\u001b[0;31m:\u001b[0m can't assign to keyword\n"
          ]
        }
      ]
    },
    {
      "cell_type": "markdown",
      "metadata": {
        "id": "YeJEbs70fqfV"
      },
      "source": [
        "As mentioned above, a variable is used to \"store\" a value. Even though it is nice to imagine that this value is directly assigned to the variable itself, this is not exactly the case. More precisely the value is stored at a certain location in memory to which our variable points/references. For now, however, this has no major impact – so let us get back to that later in the chapter about lists."
      ]
    },
    {
      "cell_type": "code",
      "metadata": {
        "id": "2eeiWQhtfIg_"
      },
      "source": [
        ""
      ],
      "execution_count": null,
      "outputs": []
    },
    {
      "cell_type": "markdown",
      "metadata": {
        "id": "veGqefB_ftYj"
      },
      "source": [
        "# **Built in Data Types**\n",
        "\n",
        "When programming we make use of some basic data types. A data type is an indication of a certain type of data and defines what operations can be performed on this certain type of data. For example, a string `str` is used to represent text (or more precisely a sequence of characters) whereas an integer `int` is a data type and is used to represent whole numbers."
      ]
    },
    {
      "cell_type": "markdown",
      "metadata": {
        "id": "Y2arNTongBGc"
      },
      "source": [
        "## String `str`\n",
        "\n",
        "As mentioned before a string is used to represent a sequence of characters – i.e. text. We signal a string by either putting single `'`, double `\"`, or triple (three single) `'''` quotation marks around the text."
      ]
    },
    {
      "cell_type": "markdown",
      "metadata": {
        "id": "tTGCk_y2hGUz"
      },
      "source": [
        "### Basic Operations with Strings"
      ]
    },
    {
      "cell_type": "code",
      "metadata": {
        "id": "VklwFPIaf-AE",
        "colab": {
          "base_uri": "https://localhost:8080/",
          "height": 35
        },
        "outputId": "bd7130c5-3e86-4d14-e8c1-74ddae291bb9"
      },
      "source": [
        "#Combine two strings into one string (also called concatenation):\n",
        "\"gold\" + \"fish\" # -> results in \"goldfish\"\n",
        "\n",
        "#We can get the length of a string:\n",
        "myWord = \"Goldfish\" #We first assign a string to the variable name\n",
        "\n",
        "len(myWord) # -> result: 8 (i.e. the value stored in myWord is 8 characters long)\n",
        "\n"
      ],
      "execution_count": null,
      "outputs": [
        {
          "output_type": "execute_result",
          "data": {
            "text/plain": [
              "8"
            ]
          },
          "metadata": {
            "tags": []
          },
          "execution_count": 14
        }
      ]
    },
    {
      "cell_type": "code",
      "metadata": {
        "id": "EbrfNf7ahL6T",
        "colab": {
          "base_uri": "https://localhost:8080/",
          "height": 35
        },
        "outputId": "c421adf6-cdf2-40a0-dc4d-d91be2db3d45"
      },
      "source": [
        "#We can convert all characters in a string into upper- / lowercase by typing:\n",
        "myWord.upper() # -> results in \"GOLDFISH\""
      ],
      "execution_count": null,
      "outputs": [
        {
          "output_type": "execute_result",
          "data": {
            "text/plain": [
              "'GOLDFISH'"
            ]
          },
          "metadata": {
            "tags": []
          },
          "execution_count": 15
        }
      ]
    },
    {
      "cell_type": "code",
      "metadata": {
        "id": "hJq74SSDhL9D",
        "colab": {
          "base_uri": "https://localhost:8080/",
          "height": 35
        },
        "outputId": "cf899e75-a027-4795-cb13-42b8e9628c10"
      },
      "source": [
        "myWord.lower() # -> results in \"goldfish\""
      ],
      "execution_count": null,
      "outputs": [
        {
          "output_type": "execute_result",
          "data": {
            "text/plain": [
              "'goldfish'"
            ]
          },
          "metadata": {
            "tags": []
          },
          "execution_count": 16
        }
      ]
    },
    {
      "cell_type": "markdown",
      "metadata": {
        "id": "IVraHRmKhfrZ"
      },
      "source": [
        "## Integer `int`\n",
        "An integer is a whole number (i.e. no decimals).\n"
      ]
    },
    {
      "cell_type": "code",
      "metadata": {
        "id": "gdBQrSLohi1S",
        "colab": {
          "base_uri": "https://localhost:8080/",
          "height": 35
        },
        "outputId": "d2549154-56c7-4285-dee6-b19221a6fd49"
      },
      "source": [
        "#Basically, all normal mathematical operations can be performed with integers:\n",
        "2 + 2 # -> results in 4\n",
        "5 - 3 # -> results in 2\n",
        "3 * 3 # -> results in 9\n",
        "10 / 5 # -> results in 2"
      ],
      "execution_count": null,
      "outputs": [
        {
          "output_type": "execute_result",
          "data": {
            "text/plain": [
              "2.0"
            ]
          },
          "metadata": {
            "tags": []
          },
          "execution_count": 17
        }
      ]
    },
    {
      "cell_type": "code",
      "metadata": {
        "id": "OQ492n24hlBJ",
        "colab": {
          "base_uri": "https://localhost:8080/",
          "height": 35
        },
        "outputId": "08690c7d-6f5c-42f2-fc32-e836eff2bc12"
      },
      "source": [
        "#There are some more sophisticated operations as well:\n",
        "#Raising a number to a power\n",
        "2 ** 3 # this raises 2 to the power of 3 -> result 8"
      ],
      "execution_count": null,
      "outputs": [
        {
          "output_type": "execute_result",
          "data": {
            "text/plain": [
              "8"
            ]
          },
          "metadata": {
            "tags": []
          },
          "execution_count": 18
        }
      ]
    },
    {
      "cell_type": "code",
      "metadata": {
        "id": "1MWbK4pmhlD7",
        "colab": {
          "base_uri": "https://localhost:8080/",
          "height": 35
        },
        "outputId": "c32919f3-ef28-4144-8da0-acbf67baca35"
      },
      "source": [
        "#Floor division\n",
        "10 // 3 # this divides 10 by 3 and gets rid of the remainder -> result 3"
      ],
      "execution_count": null,
      "outputs": [
        {
          "output_type": "execute_result",
          "data": {
            "text/plain": [
              "3"
            ]
          },
          "metadata": {
            "tags": []
          },
          "execution_count": 19
        }
      ]
    },
    {
      "cell_type": "code",
      "metadata": {
        "id": "4eBKLW14hlGp",
        "colab": {
          "base_uri": "https://localhost:8080/",
          "height": 35
        },
        "outputId": "2d5fa4a7-c566-4bcd-d19e-67bf12306264"
      },
      "source": [
        "#Modulo operator\n",
        "8 % 3 #this gives us the remainder of the division of 8 by 3."
      ],
      "execution_count": null,
      "outputs": [
        {
          "output_type": "execute_result",
          "data": {
            "text/plain": [
              "2"
            ]
          },
          "metadata": {
            "tags": []
          },
          "execution_count": 20
        }
      ]
    },
    {
      "cell_type": "markdown",
      "metadata": {
        "id": "vJ1UDWzBgkw0"
      },
      "source": [
        ""
      ]
    },
    {
      "cell_type": "markdown",
      "metadata": {
        "id": "Mqr7ZQJkh1Sb"
      },
      "source": [
        "## Float `float`\n",
        "\n",
        "Clearly you have noticed that not only whole numbers can be used in Python. Numbers with decimal values are floats or floating-point numbers. Python automatically (this is not the case in all programming languages) transforms an integer into a floating-point number e.g. when a division yields a decimal number. This is called **type promotion**. With float we can perform the same operations as with integers.\n"
      ]
    },
    {
      "cell_type": "markdown",
      "metadata": {
        "id": "JOgWPyYQiBo5"
      },
      "source": [
        "## Boolean `bool`\n",
        "A Boolean or bool (as introduced in Chapter XX) is a value that has only two possible states, either `True` or `False`. Booleans are especially useful in if statement as we will see later.\n"
      ]
    },
    {
      "cell_type": "markdown",
      "metadata": {
        "id": "G11ut6GuiOMe"
      },
      "source": [
        "## Conversion between data types\n",
        "\n",
        "In Python we can convert data types by using type conversion functions such as `int()`, `str()`,`float()` etc. However, this only works if the different values are compatible with one another. For example, we can only convert a string into an integer when the string contains \"number characters\" `int(\"25\") → results in 25 an integer.` However, `int(\"hello\")`, of course, will fail.\n"
      ]
    },
    {
      "cell_type": "code",
      "metadata": {
        "id": "xBIc1LXZiYaP",
        "colab": {
          "base_uri": "https://localhost:8080/",
          "height": 35
        },
        "outputId": "6d5ea5a9-0582-443b-858e-40540a5101f8"
      },
      "source": [
        "type(\"25\") #check which data type \"25\" is --> str"
      ],
      "execution_count": null,
      "outputs": [
        {
          "output_type": "execute_result",
          "data": {
            "text/plain": [
              "str"
            ]
          },
          "metadata": {
            "tags": []
          },
          "execution_count": 25
        }
      ]
    },
    {
      "cell_type": "code",
      "metadata": {
        "id": "LvXs-yvnihKy",
        "colab": {
          "base_uri": "https://localhost:8080/",
          "height": 35
        },
        "outputId": "d62d95ad-8ebb-4e8f-8a26-da8cc78fd36d"
      },
      "source": [
        "type(int(\"25\")) # we can see that the data type changes to int"
      ],
      "execution_count": null,
      "outputs": [
        {
          "output_type": "execute_result",
          "data": {
            "text/plain": [
              "int"
            ]
          },
          "metadata": {
            "tags": []
          },
          "execution_count": 26
        }
      ]
    },
    {
      "cell_type": "code",
      "metadata": {
        "id": "OAh-WMJ_ijvx",
        "colab": {
          "base_uri": "https://localhost:8080/",
          "height": 168
        },
        "outputId": "dd94e567-931b-484e-e458-6b9dd5235c2a"
      },
      "source": [
        "int(\"hello\") # we (obviously) cannot convert text into integers"
      ],
      "execution_count": null,
      "outputs": [
        {
          "output_type": "error",
          "ename": "ValueError",
          "evalue": "ignored",
          "traceback": [
            "\u001b[0;31m---------------------------------------------------------------------------\u001b[0m",
            "\u001b[0;31mValueError\u001b[0m                                Traceback (most recent call last)",
            "\u001b[0;32m<ipython-input-28-adf5dbba7331>\u001b[0m in \u001b[0;36m<module>\u001b[0;34m()\u001b[0m\n\u001b[0;32m----> 1\u001b[0;31m \u001b[0mint\u001b[0m\u001b[0;34m(\u001b[0m\u001b[0;34m\"hello\"\u001b[0m\u001b[0;34m)\u001b[0m \u001b[0;31m# we (obviously) cannot convert text into integers\u001b[0m\u001b[0;34m\u001b[0m\u001b[0;34m\u001b[0m\u001b[0m\n\u001b[0m",
            "\u001b[0;31mValueError\u001b[0m: invalid literal for int() with base 10: 'hello'"
          ]
        }
      ]
    },
    {
      "cell_type": "markdown",
      "metadata": {
        "id": "dIaiMUYzjFhD"
      },
      "source": [
        "## Lists `list`\n",
        "\n",
        "Python offers several built-in compound data types, for example, lists. Compound data types are also referred to as sequences. Lists are one of the most frequently used and very versatile data types in Python and are used to store multiple elements inside one object. For example, we can store multiple numbers or strings in one variable (e.g. `myNumbers = [1, 2, 3, 4, 5]` or `myFaviouriteCities = [\"London\", \"Rome\", \"Paris\"]`). Therefore, we put multiple values separated by comma into ` [ ] ` brackets.\n"
      ]
    },
    {
      "cell_type": "markdown",
      "metadata": {
        "id": "9X8FABrSjRTR"
      },
      "source": [
        "### Access single elements in lists\n",
        "\n",
        "A list by itself is not very useful - we need to be able to access single elements. In Python each element inside a list can be accessed through its so-called `index`. The first element has index `0`, the second index `1`, etc. This concept is called **zero-based indexing** since we start counting from 0 and not from 1. We can access the respective element by writing the name of the list followed by squared brackets containing the index number like this `nameOfList[index]`.\n"
      ]
    },
    {
      "cell_type": "code",
      "metadata": {
        "id": "lfyBQt1tjOfi",
        "colab": {
          "base_uri": "https://localhost:8080/",
          "height": 35
        },
        "outputId": "62bb53e3-bbac-488e-f9c5-cef56963244e"
      },
      "source": [
        "#Create a list.\n",
        "myList = [\"London\", \"Rio\", \"Havanna\", \"Rome\", \"Berlin\"]\n",
        "\n",
        "#Get the first element of a list and print it. -> result: London\n",
        "print(myList[0]) #Note the first element has index = 0"
      ],
      "execution_count": null,
      "outputs": [
        {
          "output_type": "stream",
          "text": [
            "London\n"
          ],
          "name": "stdout"
        }
      ]
    },
    {
      "cell_type": "code",
      "metadata": {
        "id": "_EwNra7-jnR7",
        "colab": {
          "base_uri": "https://localhost:8080/",
          "height": 35
        },
        "outputId": "84c94fc5-4001-4111-abb9-bb2318507dbf"
      },
      "source": [
        "#How to access items of a nested list.\n",
        "nestedList = [ [\"Apple\", \"Banana\", \"Oranges\"], [\"Tomato\", \"Salad\"]]\n",
        "\n",
        "#Access the second element inside the first nested list.\n",
        "nestedList[0][1] \t# -> Result Banana ([0] will give us the first element in nestedList, which is a list. Therefore, we can access the elements inside this nested list again by using [1]."
      ],
      "execution_count": null,
      "outputs": [
        {
          "output_type": "execute_result",
          "data": {
            "text/plain": [
              "'Banana'"
            ]
          },
          "metadata": {
            "tags": []
          },
          "execution_count": 32
        }
      ]
    },
    {
      "cell_type": "markdown",
      "metadata": {
        "id": "AuXH-86qj1BI"
      },
      "source": [
        "### Other Operations with Lists"
      ]
    },
    {
      "cell_type": "code",
      "metadata": {
        "id": "ndnnNZUpjp3B",
        "colab": {
          "base_uri": "https://localhost:8080/",
          "height": 35
        },
        "outputId": "54009983-42f7-4db2-8de8-0426abf36928"
      },
      "source": [
        "myList = [1,2,3,4]\n",
        "\n",
        "#Add an element at the end of a list\n",
        "myList.append(5) #Now the myList will be [1,2,3,4,5]\n",
        "\n",
        "print(myList)"
      ],
      "execution_count": null,
      "outputs": [
        {
          "output_type": "stream",
          "text": [
            "[1, 2, 3, 4, 5]\n"
          ],
          "name": "stdout"
        }
      ]
    },
    {
      "cell_type": "code",
      "metadata": {
        "id": "JlTN6RwYj_Gg",
        "colab": {
          "base_uri": "https://localhost:8080/",
          "height": 35
        },
        "outputId": "258f85cb-4f0e-4d90-ead9-784f2d9ee1d9"
      },
      "source": [
        "#Add multiple elements at the end of a list\n",
        "myList.extend([6,7,8,9])\n",
        "\n",
        "print(myList)"
      ],
      "execution_count": null,
      "outputs": [
        {
          "output_type": "stream",
          "text": [
            "[1, 2, 3, 4, 5, 6, 7, 8, 9]\n"
          ],
          "name": "stdout"
        }
      ]
    },
    {
      "cell_type": "code",
      "metadata": {
        "id": "oz2hpIC-kAcQ",
        "colab": {
          "base_uri": "https://localhost:8080/",
          "height": 35
        },
        "outputId": "d24576db-6d30-415c-88d3-45b030fd5e1e"
      },
      "source": [
        "\n",
        "#Remove an element at a certain index from the list\n",
        "myList.pop(0) #Removes the first element of the list and returns it\n",
        "\n",
        "print(myList)"
      ],
      "execution_count": null,
      "outputs": [
        {
          "output_type": "stream",
          "text": [
            "[2, 3, 4, 5, 6, 7, 8, 9]\n"
          ],
          "name": "stdout"
        }
      ]
    },
    {
      "cell_type": "code",
      "metadata": {
        "id": "TiuOXU0CkBdp",
        "colab": {
          "base_uri": "https://localhost:8080/",
          "height": 35
        },
        "outputId": "cd866caf-f139-442f-b21a-60b7c86b8160"
      },
      "source": [
        "#Reverse the order of the elements in the list\n",
        "myList.reverse() #The list is now [9,8,7,6,5,4,3,2,1]\n",
        "\n",
        "print(myList)"
      ],
      "execution_count": null,
      "outputs": [
        {
          "output_type": "stream",
          "text": [
            "[9, 8, 7, 6, 5, 4, 3, 2]\n"
          ],
          "name": "stdout"
        }
      ]
    },
    {
      "cell_type": "code",
      "metadata": {
        "id": "E9SLTeFskCmF",
        "colab": {
          "base_uri": "https://localhost:8080/",
          "height": 35
        },
        "outputId": "a70a7afa-6f28-4433-c7ac-3da2d8e0df30"
      },
      "source": [
        "#Change a specific element of the list\n",
        "myList[0] = 2 #This changes the first element of the list to the value 2\n",
        "\n",
        "print(myList)"
      ],
      "execution_count": null,
      "outputs": [
        {
          "output_type": "stream",
          "text": [
            "[2, 8, 7, 6, 5, 4, 3, 2]\n"
          ],
          "name": "stdout"
        }
      ]
    },
    {
      "cell_type": "markdown",
      "metadata": {
        "id": "rtixMdz0kuiK"
      },
      "source": [
        "## Tuples `tuple`\n",
        "A tuple is very similar to a list. The only difference is that a tuple is **immutable**. This means that we cannot change the elements of a tuple after defining it. A tuple is defined by using round brackets `( )` – e.g. `(0,1,2,3,4,5)`. Elements of tuples can be retrieved in the same way (indexing) as with lists.\n"
      ]
    },
    {
      "cell_type": "code",
      "metadata": {
        "id": "zndVtOAeky8R",
        "colab": {
          "base_uri": "https://localhost:8080/",
          "height": 35
        },
        "outputId": "d9c17733-e95c-49f3-83d3-57b0b1254faf"
      },
      "source": [
        "myTuple = (1,2,3,4)\n",
        "\n",
        "print(myTuple[1]) #print 2nd element of tuple"
      ],
      "execution_count": null,
      "outputs": [
        {
          "output_type": "stream",
          "text": [
            "2\n"
          ],
          "name": "stdout"
        }
      ]
    },
    {
      "cell_type": "code",
      "metadata": {
        "id": "kQS-4gPHlCgc",
        "colab": {
          "base_uri": "https://localhost:8080/",
          "height": 168
        },
        "outputId": "aabe785e-2f58-48a0-9751-b08d501e17b8"
      },
      "source": [
        "myTuple.append(5) #won't work as tuple is immutable"
      ],
      "execution_count": null,
      "outputs": [
        {
          "output_type": "error",
          "ename": "AttributeError",
          "evalue": "ignored",
          "traceback": [
            "\u001b[0;31m---------------------------------------------------------------------------\u001b[0m",
            "\u001b[0;31mAttributeError\u001b[0m                            Traceback (most recent call last)",
            "\u001b[0;32m<ipython-input-52-8d19cdc2f4d7>\u001b[0m in \u001b[0;36m<module>\u001b[0;34m()\u001b[0m\n\u001b[0;32m----> 1\u001b[0;31m \u001b[0mmyTuple\u001b[0m\u001b[0;34m.\u001b[0m\u001b[0mappend\u001b[0m\u001b[0;34m(\u001b[0m\u001b[0;36m5\u001b[0m\u001b[0;34m)\u001b[0m\u001b[0;34m\u001b[0m\u001b[0;34m\u001b[0m\u001b[0m\n\u001b[0m",
            "\u001b[0;31mAttributeError\u001b[0m: 'tuple' object has no attribute 'append'"
          ]
        }
      ]
    },
    {
      "cell_type": "markdown",
      "metadata": {
        "id": "glSZ9ZsmlWUR"
      },
      "source": [
        "## Dictionaries `dict`\n",
        "\n",
        "While lists and tuples are ordered sequences of elements, a dictionary is an unordered collection of so-called `key: value` pairs. This means every item in a dictionary has a key and a (only one) respective value. A dictionary is optimised to retrieve the value assigned to a certain key.\n",
        "\n",
        "In a dictionary keys are often strings, but could technically also be other data types. **Keys have to be unique** (in a dictionary there cannot be two identical keys) and are **immutable**. \n",
        "\n",
        "Values on the other hand can be any data type e.g. int, string, bool, list, or even a dict (called nested dictionary). **Values don't have to be unique and are mutable.**\n",
        "\n",
        "Let us have a look at a possible dictionary – we can create it by using curly brackets `{ }`:\n"
      ]
    },
    {
      "cell_type": "code",
      "metadata": {
        "id": "kL4CwKDelnQs",
        "colab": {
          "base_uri": "https://localhost:8080/",
          "height": 35
        },
        "outputId": "61d14b81-82bd-44e0-ddb3-fd0e49c0a9da"
      },
      "source": [
        "#Create a dictionary with key: value pairs\n",
        "myBook = {\"title\": \"The Great Gatsby\", \"author\": \"F. Scott Fitzgerald\", \"pages\": 140, \"movie_version\": True}\n",
        "\n",
        "#Retrieve a value of a corresponding key and print it\n",
        "print(myBook[\"title\"]) \t#This will print the value of the key \"title\" of the dictionary -> Output: \"The Great Gatsby\""
      ],
      "execution_count": null,
      "outputs": [
        {
          "output_type": "stream",
          "text": [
            "The Great Gatsby\n"
          ],
          "name": "stdout"
        }
      ]
    },
    {
      "cell_type": "code",
      "metadata": {
        "id": "6eH13uKllxM_",
        "colab": {
          "base_uri": "https://localhost:8080/",
          "height": 35
        },
        "outputId": "299c418a-0335-499a-8f21-e9d2dafebda3"
      },
      "source": [
        "#Change a value in the dictionary\n",
        "myBook[\"pages\"] = 200\n",
        "\n",
        "print(myBook)"
      ],
      "execution_count": null,
      "outputs": [
        {
          "output_type": "stream",
          "text": [
            "{'title': 'The Great Gatsby', 'author': 'F. Scott Fitzgerald', 'pages': 200, 'movie_version': True}\n"
          ],
          "name": "stdout"
        }
      ]
    },
    {
      "cell_type": "markdown",
      "metadata": {
        "id": "e4wVWkSvmC43"
      },
      "source": [
        "As you can see, we can create a dictionary that contains several values each associated with a unique key. These values can be retrieved when we look up the key in the dictionary. If we **look up a key that does not exist** in that dictionary, we get a `KeyError`, signalling that there is no such key in that dictionary."
      ]
    },
    {
      "cell_type": "markdown",
      "metadata": {
        "id": "RZYaFlYemLmM"
      },
      "source": [
        "If we are working with dictionaries, there are some tricks that can be used that are especially useful for looping (which will be explained later). In case we only want to get all keys or all values of a dictionary we can use either .`keys()` or respectively `.values()`. If we want to get an overview over all existing `key:value`s pairs `.items()` is pretty useful. This can, for example, be useful to see what keys exist in a certain dictionary and to get a brief overview of its content."
      ]
    },
    {
      "cell_type": "code",
      "metadata": {
        "id": "3Jaymb6AmQpl",
        "colab": {
          "base_uri": "https://localhost:8080/",
          "height": 35
        },
        "outputId": "bec68e7d-d8b4-43be-8506-61c0246a7402"
      },
      "source": [
        "print(myBook.keys())"
      ],
      "execution_count": null,
      "outputs": [
        {
          "output_type": "stream",
          "text": [
            "dict_keys(['title', 'author', 'pages', 'movie_version'])\n"
          ],
          "name": "stdout"
        }
      ]
    },
    {
      "cell_type": "code",
      "metadata": {
        "id": "6Cg3CYnUmUwv",
        "colab": {
          "base_uri": "https://localhost:8080/",
          "height": 35
        },
        "outputId": "af6d2172-a566-4bb7-e465-e6dae5263626"
      },
      "source": [
        "print(myBook.values())"
      ],
      "execution_count": null,
      "outputs": [
        {
          "output_type": "stream",
          "text": [
            "dict_values(['The Great Gatsby', 'F. Scott Fitzgerald', 200, True])\n"
          ],
          "name": "stdout"
        }
      ]
    },
    {
      "cell_type": "code",
      "metadata": {
        "id": "5UPvZlermXQP",
        "colab": {
          "base_uri": "https://localhost:8080/",
          "height": 35
        },
        "outputId": "77d47242-3e84-4813-d142-5e3fb463577a"
      },
      "source": [
        "print(myBook.items())"
      ],
      "execution_count": null,
      "outputs": [
        {
          "output_type": "stream",
          "text": [
            "dict_items([('title', 'The Great Gatsby'), ('author', 'F. Scott Fitzgerald'), ('pages', 200), ('movie_version', True)])\n"
          ],
          "name": "stdout"
        }
      ]
    },
    {
      "cell_type": "markdown",
      "metadata": {
        "id": "5zBG3Xr7mzcI"
      },
      "source": [
        "## Sets `set`\n",
        "\n",
        "A set is an **unordered collection of items and each element in the set is unique**. Basically, it is the same as a set in mathematics. Thus, with a set we can perform mathematical operations such as union, intersection, symmetric difference, etc. or check if another set is a subset of the set at hand. \n",
        "\n",
        "We can create a set by using curly brackets `{ }` containing all elements that are in the set separated by a comma e.g. `primeNumbers = {2,3,5,7,11,13,17,19,23,29}`. In case we create a set with multiple items with the same value, they will be disregarded e.g. `{1,1,1,2,3}` will be just `{1,2,3}`.\n",
        " "
      ]
    },
    {
      "cell_type": "code",
      "metadata": {
        "id": "j7pLhkWRnHk8",
        "colab": {
          "base_uri": "https://localhost:8080/",
          "height": 35
        },
        "outputId": "c8b2b43f-02ab-49d7-e7fe-f1b0391646c6"
      },
      "source": [
        "{1,1,1,2,3}"
      ],
      "execution_count": null,
      "outputs": [
        {
          "output_type": "execute_result",
          "data": {
            "text/plain": [
              "{1, 2, 3}"
            ]
          },
          "metadata": {
            "tags": []
          },
          "execution_count": 62
        }
      ]
    },
    {
      "cell_type": "markdown",
      "metadata": {
        "id": "6NQrkVFynLP3"
      },
      "source": [
        "We can also transform other compound data types into sets by using the `set()` operator."
      ]
    },
    {
      "cell_type": "code",
      "metadata": {
        "id": "SgMaGMxenU1m",
        "colab": {
          "base_uri": "https://localhost:8080/",
          "height": 35
        },
        "outputId": "84fd7604-8466-42ce-9d8a-33300cd584b7"
      },
      "source": [
        "myList = [1,2,3,4,3,2,1]\n",
        "set(myList)"
      ],
      "execution_count": null,
      "outputs": [
        {
          "output_type": "execute_result",
          "data": {
            "text/plain": [
              "{1, 2, 3, 4}"
            ]
          },
          "metadata": {
            "tags": []
          },
          "execution_count": 63
        }
      ]
    },
    {
      "cell_type": "markdown",
      "metadata": {
        "id": "HnhivV81tv1X"
      },
      "source": [
        "## Determine the type of an object\n",
        "When programming we often want to make sure that a variable is only of a certain type. Hence, we make use of two built-in functions (`type()` and `isinstance()`) to check the data type of a variable.\n"
      ]
    },
    {
      "cell_type": "code",
      "metadata": {
        "id": "SKSVphDQt1GY",
        "colab": {
          "base_uri": "https://localhost:8080/",
          "height": 70
        },
        "outputId": "464882df-526b-4698-c95f-a930630b9c03"
      },
      "source": [
        "#Find out what data type a certain variable is\n",
        "a = \"Python\"\n",
        "b = 1.2\n",
        "c = {1,-2,3}\n",
        "\n",
        "print(type(a)) # result -> str\n",
        "print(type(b)) # result -> float\n",
        "print(type(c)) # result -> set\n",
        "\n"
      ],
      "execution_count": null,
      "outputs": [
        {
          "output_type": "stream",
          "text": [
            "<class 'str'>\n",
            "<class 'float'>\n",
            "<class 'set'>\n"
          ],
          "name": "stdout"
        }
      ]
    },
    {
      "cell_type": "code",
      "metadata": {
        "id": "bHinUlbTt3rb",
        "colab": {
          "base_uri": "https://localhost:8080/",
          "height": 35
        },
        "outputId": "95b1895f-39ef-418f-f29f-92bd96b4bff7"
      },
      "source": [
        "#Check if a variable is of a certain data type\n",
        "isinstance(a, str) #Is variable a of type string? Result -> True"
      ],
      "execution_count": null,
      "outputs": [
        {
          "output_type": "execute_result",
          "data": {
            "text/plain": [
              "True"
            ]
          },
          "metadata": {
            "tags": []
          },
          "execution_count": 67
        }
      ]
    },
    {
      "cell_type": "code",
      "metadata": {
        "id": "KnDcRqgVuB5V",
        "colab": {
          "base_uri": "https://localhost:8080/",
          "height": 35
        },
        "outputId": "3a369102-9b0b-4239-ef6c-060dba4c9d33"
      },
      "source": [
        "isinstance(b, int) #Result -> False"
      ],
      "execution_count": null,
      "outputs": [
        {
          "output_type": "execute_result",
          "data": {
            "text/plain": [
              "False"
            ]
          },
          "metadata": {
            "tags": []
          },
          "execution_count": 66
        }
      ]
    },
    {
      "cell_type": "code",
      "metadata": {
        "id": "hkOKfHgWuRCj",
        "colab": {
          "base_uri": "https://localhost:8080/",
          "height": 35
        },
        "outputId": "1959dbed-933a-4492-97f0-1b73fa6a3dc2"
      },
      "source": [
        "#The function isinstance() allows us to check for multiple data types, i.e. we can check if a variable is either int or float. \n",
        "# The code looks as follows: \n",
        "\n",
        "myVar = 4.4 # this is a float\n",
        "isinstance(myVar, (int, float))"
      ],
      "execution_count": null,
      "outputs": [
        {
          "output_type": "execute_result",
          "data": {
            "text/plain": [
              "True"
            ]
          },
          "metadata": {
            "tags": []
          },
          "execution_count": 68
        }
      ]
    },
    {
      "cell_type": "code",
      "metadata": {
        "id": "YPe6YhS_upkf",
        "colab": {
          "base_uri": "https://localhost:8080/",
          "height": 35
        },
        "outputId": "359b6ee6-0238-4c5a-bcad-866bee6c9123"
      },
      "source": [
        "myVar = 4 # this is an integer\n",
        "isinstance(myVar, (int, float))"
      ],
      "execution_count": null,
      "outputs": [
        {
          "output_type": "execute_result",
          "data": {
            "text/plain": [
              "True"
            ]
          },
          "metadata": {
            "tags": []
          },
          "execution_count": 71
        }
      ]
    },
    {
      "cell_type": "markdown",
      "metadata": {
        "id": "kcixnzgWuxua"
      },
      "source": [
        "# **LIBRARIES**\n",
        "\n",
        "In Python we have the possibility to use third-party libraries, which consist of multiple modules. These modules then provide additional functionalities that we can use. For example, we can use the module math to have more mathematical functionality or use the random module to easily create random numbers. To use a certain module, we have to import it first with the import statement.\n"
      ]
    },
    {
      "cell_type": "code",
      "metadata": {
        "id": "YpnuCZ8Fu93S",
        "colab": {
          "base_uri": "https://localhost:8080/",
          "height": 52
        },
        "outputId": "cb501be4-bdb6-4e7f-8eca-e8db8ae6e97b"
      },
      "source": [
        "#Import a module\n",
        "import math\n",
        "import random\n",
        "\n",
        "pi = math.pi #For example, the math module can be used to get the value of pi.\n",
        "euler = math.e #Or to get the Euler number.\n",
        "\n",
        "print(pi)\n",
        "print(euler)"
      ],
      "execution_count": null,
      "outputs": [
        {
          "output_type": "stream",
          "text": [
            "3.141592653589793\n",
            "2.718281828459045\n"
          ],
          "name": "stdout"
        }
      ]
    },
    {
      "cell_type": "code",
      "metadata": {
        "id": "sOil5jI9u2RC",
        "colab": {
          "base_uri": "https://localhost:8080/",
          "height": 35
        },
        "outputId": "d62a174f-5af5-4c66-d34c-67c96b409665"
      },
      "source": [
        "random.randrange(0,10) \t#We can use the randrange() function from the random module to create a random number."
      ],
      "execution_count": null,
      "outputs": [
        {
          "output_type": "execute_result",
          "data": {
            "text/plain": [
              "4"
            ]
          },
          "metadata": {
            "tags": []
          },
          "execution_count": 75
        }
      ]
    },
    {
      "cell_type": "code",
      "metadata": {
        "id": "RlRxwxe3vMyy",
        "colab": {
          "base_uri": "https://localhost:8080/",
          "height": 35
        },
        "outputId": "7e695722-3bbb-4df2-c390-20c69de14140"
      },
      "source": [
        "# We can also import only specific variables from a module\n",
        "from math import pi\n",
        "from math import e\n",
        "\n",
        "print(e)"
      ],
      "execution_count": null,
      "outputs": [
        {
          "output_type": "stream",
          "text": [
            "2.718281828459045\n"
          ],
          "name": "stdout"
        }
      ]
    },
    {
      "cell_type": "code",
      "metadata": {
        "id": "KXZQP0amvaqK",
        "colab": {
          "base_uri": "https://localhost:8080/",
          "height": 35
        },
        "outputId": "18f5077f-c32c-4290-af9d-f8daea4755ea"
      },
      "source": [
        "# As a last step we can rename the specific imports to make them fit better for our code\n",
        "\n",
        "from math import e as euler\n",
        "print(euler)"
      ],
      "execution_count": null,
      "outputs": [
        {
          "output_type": "stream",
          "text": [
            "2.718281828459045\n"
          ],
          "name": "stdout"
        }
      ]
    },
    {
      "cell_type": "markdown",
      "metadata": {
        "id": "gMLXFSrbxHOL"
      },
      "source": [
        "# **INPUT AND OUTPUT**\n",
        "In order to generate a benefit, a program has to interact with the user. Therefore, we can make use of some built-in functions to output and input data.\n"
      ]
    },
    {
      "cell_type": "markdown",
      "metadata": {
        "id": "YO00alUZxUUu"
      },
      "source": [
        "## Input\n",
        "It can be useful to assign a certain value the user inputs to a variable. With the `input()` function we can directly assign the input that is entered by the user into the standard input (i.e. in the Integrated Development Environment: the Console/Shell). We can also add optional text that will be displayed to the user so that he knows what has to be entered. The program will pause with the execution until some data is inputted:\n"
      ]
    },
    {
      "cell_type": "code",
      "metadata": {
        "id": "qifgBZgrxa2p",
        "colab": {
          "base_uri": "https://localhost:8080/",
          "height": 52
        },
        "outputId": "c95c8368-481b-40ae-adc6-db55d9f911ce"
      },
      "source": [
        "name = input(\"Please enter your name: \")\n",
        "print(name)"
      ],
      "execution_count": null,
      "outputs": [
        {
          "output_type": "stream",
          "text": [
            "Please enter your name: EasyPass\n",
            "EasyPass\n"
          ],
          "name": "stdout"
        }
      ]
    },
    {
      "cell_type": "markdown",
      "metadata": {
        "id": "jkPyvkTlxplq"
      },
      "source": [
        "Please note that the data that is inputted through the standard input is always converted to a string. This means even if the user enters a number the variable will have a data type string and not integer. However, we can later convert that value by using the previously mentioned built-in conversion functions (int())."
      ]
    },
    {
      "cell_type": "code",
      "metadata": {
        "id": "rM8Y9Fhmxyau",
        "colab": {
          "base_uri": "https://localhost:8080/",
          "height": 52
        },
        "outputId": "f64ac943-4235-4010-b2e7-e32b79a6a6ca"
      },
      "source": [
        "age = input(\"Please enter your age: \")\n",
        "type(age)"
      ],
      "execution_count": null,
      "outputs": [
        {
          "output_type": "stream",
          "text": [
            "Please enter your age: 21\n",
            "<class 'str'>\n"
          ],
          "name": "stdout"
        }
      ]
    },
    {
      "cell_type": "code",
      "metadata": {
        "id": "lUXjW__Ax6yp",
        "colab": {
          "base_uri": "https://localhost:8080/",
          "height": 35
        },
        "outputId": "d3077777-911a-41be-ff7b-329df2c6b357"
      },
      "source": [
        "type(int(age))"
      ],
      "execution_count": null,
      "outputs": [
        {
          "output_type": "execute_result",
          "data": {
            "text/plain": [
              "int"
            ]
          },
          "metadata": {
            "tags": []
          },
          "execution_count": 87
        }
      ]
    },
    {
      "cell_type": "markdown",
      "metadata": {
        "id": "jNicmbtfyT8a"
      },
      "source": [
        "## Input from the command line\n",
        "When using Python from the Terminal / Command line we have different options to input data into the program: For this we need to import the module sys. Let's see how this is done in the Python script:\n"
      ]
    },
    {
      "cell_type": "code",
      "metadata": {
        "id": "veckysBCylS5"
      },
      "source": [
        "#Import sys\n",
        "import sys\n",
        "\n",
        "#Create variables that use values that are passed from the command line \n",
        "input_1 = sys.argv[1] \t#sys.argv[1] stands for the first parameter we input from the command line.\n",
        "input_2 = sys.argv[2] \t#sys.argv[2] stands for the second parameter we input from the command line."
      ],
      "execution_count": null,
      "outputs": []
    },
    {
      "cell_type": "markdown",
      "metadata": {
        "id": "eHvqnS-cyuog"
      },
      "source": [
        "At the same time, we somehow need to pass the parameters from the command line. This is done by just appending the parameters when calling the script from the command line: `python3 /Users/user/Desktop/test_script.py input_1 input_2`."
      ]
    },
    {
      "cell_type": "markdown",
      "metadata": {
        "id": "t83XXwDNzM6Q"
      },
      "source": [
        "Probably, you have noted something unusual in the code above. Normally, we always use **zero-based indexing**, which means that the first argument should have an index of 0 and not 1. However, the reason is the following: the first argument sys.argv[0] is the script name itself (=test_script.py), the following arguments are technically then the 2nd and the 3rd argument.\n",
        "\n"
      ]
    },
    {
      "cell_type": "markdown",
      "metadata": {
        "id": "By6Ceyu8zT8Q"
      },
      "source": [
        "## Output\n",
        "Sometimes it can be very useful to visualize an output – for example, a result of a calculation or some other text – to the user. Thus, in Python we usually use of the `print()` function. When we \"print\" data, this means that the data outputted to the standard output (i.e. in the Thonny in the Console). Let's look at some examples:"
      ]
    },
    {
      "cell_type": "code",
      "metadata": {
        "id": "DX1zA28WzsD6",
        "colab": {
          "base_uri": "https://localhost:8080/",
          "height": 88
        },
        "outputId": "e0472d9c-e9b0-4176-c2c7-4def286426ff"
      },
      "source": [
        "#Print predefined data (e.g. information to the user):\n",
        "print(\"This is a predefined message.\")\n",
        "\n",
        "#Print the result of a calculation:\n",
        "print(14*14)\n",
        "\n",
        "#Print the value of a variable:\n",
        "myName = \"Kevin\"\n",
        "print(myName) \n",
        "\n",
        "#Combine some predefined text with a value of a variable:\n",
        "print(\"My name is\", myName) "
      ],
      "execution_count": null,
      "outputs": [
        {
          "output_type": "stream",
          "text": [
            "This is a predefined message.\n",
            "196\n",
            "Kevin\n",
            "My name is Kevin\n"
          ],
          "name": "stdout"
        }
      ]
    },
    {
      "cell_type": "markdown",
      "metadata": {
        "id": "xyxAGWGaz1U5"
      },
      "source": [
        "# **IF STATEMENTS**\n",
        "\n",
        "In programming we often want to perform actions dependent on certain criteria (so-called **Flow Control**). For example, it can be that we only want to execute a specific code in case a certain condition is fulfilled. This can be done with `if` statements. In order to better understand the nature of if statements, let us have a look at Boolean expressions and comparison operators in Python.\n"
      ]
    },
    {
      "cell_type": "markdown",
      "metadata": {
        "id": "PkjIfPAhz9Zv"
      },
      "source": [
        "## Boolean Expressions and Comparisons\n",
        "\n",
        "A fundamental element to understand if statements are Boolean expressions. A Boolean expression is a comparison between two values that are either `True` or `False`. For example, a simple Boolean expression that returns `True` would be 10 is greater than 9. Conversely, a Boolean expression that would be `False` is 10 is equal to 9.\n",
        "\n",
        "These ideas can also be expressed a bit more abstractly through code. Therefore, we have to use so called comparison operators. In Python there are several of these operators:\n",
        "\n",
        "*   `>` means is greater than\n",
        "\n",
        "*   `<` means is smaller than\n",
        "\n",
        "*   `==` means is equal to\n",
        "*   `!=` means is not equal to\n",
        "\n",
        "\n",
        "*   `>=` means is greater than or equal to\n",
        "\n",
        "\n",
        "*   `<=` means is smaller than or equal to\n",
        "\n",
        "\n",
        "\n"
      ]
    },
    {
      "cell_type": "code",
      "metadata": {
        "id": "5NcApYBg0t-3",
        "colab": {
          "base_uri": "https://localhost:8080/",
          "height": 35
        },
        "outputId": "177be62d-b3d6-4643-9fd3-ac8a442a50db"
      },
      "source": [
        "#Boolean Comparisons \n",
        "10 == 9 # -> result: False i.e. 10 is equal to 9 is a condition that is not true"
      ],
      "execution_count": null,
      "outputs": [
        {
          "output_type": "execute_result",
          "data": {
            "text/plain": [
              "False"
            ]
          },
          "metadata": {
            "tags": []
          },
          "execution_count": 94
        }
      ]
    },
    {
      "cell_type": "code",
      "metadata": {
        "id": "k5pbd2090xSx",
        "colab": {
          "base_uri": "https://localhost:8080/",
          "height": 35
        },
        "outputId": "fe872d3b-001e-46f4-b101-0d423cf2937c"
      },
      "source": [
        "#We can perform the same comparison with a value stored in a variable\n",
        "myNumber = 10\n",
        "myNumber > 9 # result: True"
      ],
      "execution_count": null,
      "outputs": [
        {
          "output_type": "execute_result",
          "data": {
            "text/plain": [
              "True"
            ]
          },
          "metadata": {
            "tags": []
          },
          "execution_count": 95
        }
      ]
    },
    {
      "cell_type": "code",
      "metadata": {
        "id": "MSp3JBYr0yy-",
        "colab": {
          "base_uri": "https://localhost:8080/",
          "height": 35
        },
        "outputId": "35bfa1fb-0fe2-48d1-d4cc-2962d7d90fd6"
      },
      "source": [
        "#We can also perform comparisons of text\n",
        "myText = \"Hello\"\n",
        "myText == \"Hello\" \t# -> result: True i.e. the value that myText stores is equal to \"Hello\""
      ],
      "execution_count": null,
      "outputs": [
        {
          "output_type": "execute_result",
          "data": {
            "text/plain": [
              "True"
            ]
          },
          "metadata": {
            "tags": []
          },
          "execution_count": 96
        }
      ]
    },
    {
      "cell_type": "markdown",
      "metadata": {
        "id": "ojc1MXq90qJG"
      },
      "source": [
        "## If Statement Syntax\n",
        "\n"
      ]
    },
    {
      "cell_type": "markdown",
      "metadata": {
        "id": "PLO8Mz2S0Mvd"
      },
      "source": [
        "```\n",
        "if (test condition):\n",
        "\tprint(\"The test condition is True\")\n",
        "elif (another test condition):\n",
        "\tprint(\"The 2nd test condition is fulfilled\")\n",
        "else:\n",
        "\tprint(\"The test condition is False\")\n",
        "```\n",
        "In an if statement we can use a test condition. Only if the condition is `True`, the code inside the if-expression is executed. In case the expression is `False`, only the code in the else-expression is executed."
      ]
    },
    {
      "cell_type": "markdown",
      "metadata": {
        "id": "SzVT76_-1pax"
      },
      "source": [
        "Generally, the `else` expression is optional. This means that there can be an if statement without an else statement. Then, in case the expression is `False`, no code will be executed. Also there is the possibility to check for several different conditions in case the first if condition is `False`. Then, one or multiple `elif` (stands for else if) statements with the corresponding test conditions can follow the initial if-statement."
      ]
    },
    {
      "cell_type": "markdown",
      "metadata": {
        "id": "UYu7-tui11sR"
      },
      "source": [
        "## Logical operators\n",
        "We have the possibility to use Boolean operators such as `and`, `or` and `not`. This allows us to do basic Boolean algebra e.g. we can combine multiple test conditions within one statement.\n"
      ]
    },
    {
      "cell_type": "code",
      "metadata": {
        "id": "KsBWxati2D9p",
        "colab": {
          "base_uri": "https://localhost:8080/",
          "height": 70
        },
        "outputId": "b3e45fcb-f17d-4ff8-841d-8e2d68aaad94"
      },
      "source": [
        "#Logic operators help us to combine multiple test conditions\n",
        "a = True\n",
        "b = False\n",
        "\n",
        "print((a and b)) #Result -> False (since both (a and b) are not True)\n",
        "\n",
        "print((a or b)) #Result -> True (since either a or b (or both) are True)\n",
        "\n",
        "print((not a)) #Result -> False (inverts the Boolean value of variable a)\n"
      ],
      "execution_count": null,
      "outputs": [
        {
          "output_type": "stream",
          "text": [
            "False\n",
            "True\n",
            "False\n"
          ],
          "name": "stdout"
        }
      ]
    },
    {
      "cell_type": "code",
      "metadata": {
        "id": "ExfHZZVC2NAe",
        "colab": {
          "base_uri": "https://localhost:8080/",
          "height": 52
        },
        "outputId": "424cae66-7ab7-4c46-e57f-fa9eb7f0f5b4"
      },
      "source": [
        "# implement these operators within an if statement\n",
        "myNumber = 5\n",
        "if (myNumber >= 0) and (myNumber <= 10):\n",
        "\tprint(\"The number is between 0 and 10\")\n",
        "\n",
        "if (myNumber >= 0) and (myNumber <= 10) or (myNumber == 100):\n",
        "\tprint(\"The number is either between 0 or equal to 100\")"
      ],
      "execution_count": null,
      "outputs": [
        {
          "output_type": "stream",
          "text": [
            "The number is between 0 and 10\n",
            "The number is either between 0 or equal to 100\n"
          ],
          "name": "stdout"
        }
      ]
    },
    {
      "cell_type": "markdown",
      "metadata": {
        "id": "Qyp4UYQ32a3v"
      },
      "source": [
        "# **LOOPS**\n",
        "Another useful concept in programming are loops. Loops can be used to perform the same code multiple times. There are two different types of loops – for loops and while loops."
      ]
    },
    {
      "cell_type": "markdown",
      "metadata": {
        "id": "uUkjWJuP2fws"
      },
      "source": [
        "## For Loops\n",
        "\n",
        "A for loop can be used to iterate over a sequence (e.g. a list or tuple) or any other object that is iterable. Specifically, this means that we can iterate over each element in e.g. a list and apply some operation to that element separately. Let's consider an example, where we have a list `[\"A\",\"B\",\"C\",\"D\"]`. Our goal is to print every single element in the list separately with some text. This can be done by using a for loop:\n"
      ]
    },
    {
      "cell_type": "code",
      "metadata": {
        "id": "NuhQDL-q2qlI",
        "colab": {
          "base_uri": "https://localhost:8080/",
          "height": 88
        },
        "outputId": "3a6804c7-6cdb-4d93-f008-03923cc38a62"
      },
      "source": [
        "#Loop over an iterable object (e.g. a list) and perform an operation with each element in this list.\n",
        "myList = [\"A\",\"B\",\"C\",\"D\"]\n",
        "for element in myList:\n",
        "\tprint(\"My list contains the element: {}\".format(element))\n",
        "\n",
        "# As you can see this task can be heavily simplified by using a loop. \n",
        "# myList is an iterable and therefore can be used by the for loop. Please note, \n",
        "# that element is a random variable name that we define in order to later access \n",
        "# the single element of the list inside the for loop."
      ],
      "execution_count": null,
      "outputs": [
        {
          "output_type": "stream",
          "text": [
            "My list contains the element: A\n",
            "My list contains the element: B\n",
            "My list contains the element: C\n",
            "My list contains the element: D\n"
          ],
          "name": "stdout"
        }
      ]
    },
    {
      "cell_type": "markdown",
      "metadata": {
        "id": "ZkYPRGUD3Gmx"
      },
      "source": [
        "### For loops with range()\n",
        "In for loops we can make use of the range() function to loop over a list. The range() function can be used to get a list that ranges from 0 up to (excluding) the number that is specified in the parenthesis e.g. `range(5)` -> `[0,1,2,3,4]`.\n",
        "This list then again can be used to loop over, which is especially useful if we want to access element in another list. As an example let us look at the exact same function above just rewritten so that it uses a `range()` function.\n"
      ]
    },
    {
      "cell_type": "code",
      "metadata": {
        "id": "LtRxdPoa3PJr",
        "colab": {
          "base_uri": "https://localhost:8080/",
          "height": 88
        },
        "outputId": "9b14adbe-8d62-43c4-996d-eb921eacc093"
      },
      "source": [
        "#For loop with the range() function.\n",
        "myList = [\"A\",\"B\",\"C\",\"D\"]\n",
        "for element in range(4): #use range(len(myList)) to make it more general.\n",
        "\tprint(\"My list contains the element: {}\".format(myList[element]))\n"
      ],
      "execution_count": null,
      "outputs": [
        {
          "output_type": "stream",
          "text": [
            "My list contains the element: A\n",
            "My list contains the element: B\n",
            "My list contains the element: C\n",
            "My list contains the element: D\n"
          ],
          "name": "stdout"
        }
      ]
    },
    {
      "cell_type": "markdown",
      "metadata": {
        "id": "g85atufV3dyv"
      },
      "source": [
        "If you have trouble understanding this just imagine the following: Since the `range(4)` gives us the list `[0,1,2,3]`, we can just rewrite the code into a bit less general form:"
      ]
    },
    {
      "cell_type": "code",
      "metadata": {
        "id": "YYUdWl8h3hZN",
        "colab": {
          "base_uri": "https://localhost:8080/",
          "height": 88
        },
        "outputId": "58635b9b-16f3-4df5-afc8-5f6fa91e99b7"
      },
      "source": [
        "myList = [\"A\",\"B\",\"C\",\"D\"]\n",
        "for element in [0,1,2,3]:\n",
        "\tprint(myList[element])"
      ],
      "execution_count": null,
      "outputs": [
        {
          "output_type": "stream",
          "text": [
            "A\n",
            "B\n",
            "C\n",
            "D\n"
          ],
          "name": "stdout"
        }
      ]
    },
    {
      "cell_type": "markdown",
      "metadata": {
        "id": "k9sRxox53s8x"
      },
      "source": [
        "So, we will iterate over each element in this list [0,1,2,3] and then use these single elements as an index to access myList."
      ]
    },
    {
      "cell_type": "markdown",
      "metadata": {
        "id": "gjjQm3G63tye"
      },
      "source": [
        "### Iterating over a dictionary\n",
        "\n",
        "When we want to iterate over a dictionary, we have multiple choices – we can either loop over each key, each value or each key-value pair combined.\n"
      ]
    },
    {
      "cell_type": "code",
      "metadata": {
        "id": "lm5CBMXf3zcn"
      },
      "source": [
        "#Create a dictionary\n",
        "\n",
        "inhabitants = {\"Rome\": 2800000, \"Paris\": 2140000, \"Berlin\": 3700000, \"Dubai\": 3300000}"
      ],
      "execution_count": null,
      "outputs": []
    },
    {
      "cell_type": "markdown",
      "metadata": {
        "id": "OO6a264o4bgI"
      },
      "source": [
        "Iterating over keys with .key()\n",
        "\n",
        "With this method we can access the corresponding value for a certain key with dictionary[key]."
      ]
    },
    {
      "cell_type": "code",
      "metadata": {
        "id": "6_crtYqr4Jgu",
        "colab": {
          "base_uri": "https://localhost:8080/",
          "height": 88
        },
        "outputId": "1e07dc18-340b-4ae1-c055-52ff2956e725"
      },
      "source": [
        "for key in inhabitants.keys():\n",
        "  print(\"{} has {} inhabitants\".format(key, inhabitants[key]))"
      ],
      "execution_count": null,
      "outputs": [
        {
          "output_type": "stream",
          "text": [
            "Rome has 2800000 inhabitants\n",
            "Paris has 2140000 inhabitants\n",
            "Berlin has 3700000 inhabitants\n",
            "Dubai has 3300000 inhabitants\n"
          ],
          "name": "stdout"
        }
      ]
    },
    {
      "cell_type": "markdown",
      "metadata": {
        "id": "LGnHTz4L4gLj"
      },
      "source": [
        "Iterate over each key value pair combined with .items()\n",
        "We can directly access the value and the key"
      ]
    },
    {
      "cell_type": "code",
      "metadata": {
        "id": "lp4asDX833bP",
        "colab": {
          "base_uri": "https://localhost:8080/",
          "height": 88
        },
        "outputId": "204c7196-f2e1-4c38-b275-e4fc041a7756"
      },
      "source": [
        "for (key, value) in inhabitants.items():\n",
        "\tprint(\"{} has {} inhabitants\".format(key, value))\n"
      ],
      "execution_count": null,
      "outputs": [
        {
          "output_type": "stream",
          "text": [
            "Rome has 2800000 inhabitants\n",
            "Paris has 2140000 inhabitants\n",
            "Berlin has 3700000 inhabitants\n",
            "Dubai has 3300000 inhabitants\n"
          ],
          "name": "stdout"
        }
      ]
    },
    {
      "cell_type": "markdown",
      "metadata": {
        "id": "vHXUF97j4kle"
      },
      "source": [
        "Alternatively, we can also just loop through all values of a dictionary by .values().\n",
        "However, note that with this method we cannot retrieve the associated key of the value easily."
      ]
    },
    {
      "cell_type": "code",
      "metadata": {
        "id": "yXIBkMX735xF",
        "colab": {
          "base_uri": "https://localhost:8080/",
          "height": 88
        },
        "outputId": "98a7e809-242d-4e42-bd59-cfa91849390a"
      },
      "source": [
        "for value in inhabitants.values():\n",
        "\tprint(value)\n",
        "        "
      ],
      "execution_count": null,
      "outputs": [
        {
          "output_type": "stream",
          "text": [
            "2800000\n",
            "2140000\n",
            "3700000\n",
            "3300000\n"
          ],
          "name": "stdout"
        }
      ]
    },
    {
      "cell_type": "markdown",
      "metadata": {
        "id": "3MW4dSW-4r5u"
      },
      "source": [
        "## While\n",
        "\n",
        "While loops are another form of repeatedly iterating over a certain bit of code. In comparison to for loops while loops repeat a certain bit of code as long as the test condition is `True`. Let's look at an example:\n"
      ]
    },
    {
      "cell_type": "code",
      "metadata": {
        "id": "JPgIsbz54wgz",
        "colab": {
          "base_uri": "https://localhost:8080/",
          "height": 195
        },
        "outputId": "444508ca-e133-4324-b88a-a90f0036e3f0"
      },
      "source": [
        "#Example while loop.\n",
        "myNumber = 0\n",
        "while myNumber < 10:\n",
        "\tprint(myNumber)\n",
        "\tmyNumber = myNumber + 1\n"
      ],
      "execution_count": null,
      "outputs": [
        {
          "output_type": "stream",
          "text": [
            "0\n",
            "1\n",
            "2\n",
            "3\n",
            "4\n",
            "5\n",
            "6\n",
            "7\n",
            "8\n",
            "9\n"
          ],
          "name": "stdout"
        }
      ]
    },
    {
      "cell_type": "markdown",
      "metadata": {
        "id": "6d4nUpEL4yVm"
      },
      "source": [
        "So, as long as the condition myNumber is smaller than 10 is fulfilled, it will repeat the code inside the while loop. The condition will not be True forever, since with each iteration we add +1 to myNumber and so after 10 repetitions the loop will stop."
      ]
    },
    {
      "cell_type": "markdown",
      "metadata": {
        "id": "ptvggZih43Qr"
      },
      "source": [
        "# **FUNCTIONS**\n",
        "A function is a snippet of code that is used to group your entire program into smaller, and more modular chunks of code that can be \"called\" separately. This also helps to reuse code and avoid writing the same code over and over again.\n"
      ]
    },
    {
      "cell_type": "code",
      "metadata": {
        "id": "aWPGW79Y5BNH",
        "colab": {
          "base_uri": "https://localhost:8080/",
          "height": 52
        },
        "outputId": "588f19a4-4973-403f-e6f5-4caa2de3f52b"
      },
      "source": [
        "#Basic structure of Functions in Python\n",
        "def addAllNumbers(myList):\n",
        "\t\"\"\"This function adds the numbers of a given list\"\"\"\n",
        "\n",
        "\tsumOfList = sum(myList)\n",
        "\tprint(\"The sum of all numbers is: {}\".format(sumOfList))\n",
        "\n",
        "#Calling a function (running the code in a function)\n",
        "addAllNumbers([1,1,1,1]) #Result: The sum of all numbers is 4\n",
        "addAllNumbers([1,2,3,4]) #Result: The sum of all numbers is 10\n"
      ],
      "execution_count": null,
      "outputs": [
        {
          "output_type": "stream",
          "text": [
            "The sum of all numbers is: 4\n",
            "The sum of all numbers is: 10\n"
          ],
          "name": "stdout"
        }
      ]
    },
    {
      "cell_type": "markdown",
      "metadata": {
        "id": "lMVOtD1s5Fz0"
      },
      "source": [
        "As you can see, a function is signalled by the keyword `def`, which is followed by the name the function should have. In brackets we can enter one or multiple parameters the function should take as an input (a function can also have no parameters, then we just use empty brackets `( )` ). Think of the parameters as variables or values that can be taken in and later be used inside the function’s code. Inside the function body we also have the possibility to add a `docstring` (signalled by triple quotation marks). A docstring is just a quick description of what the function does that can be used by the programmer for more clarity. If you want to read a docstring of a function, you can just enter the function's name, append .__doc__ and print it. `print(addAllNumbers.__doc__)` will for example print the docstring of the function defined above."
      ]
    },
    {
      "cell_type": "code",
      "metadata": {
        "id": "Mrt-6ow940m_",
        "colab": {
          "base_uri": "https://localhost:8080/",
          "height": 35
        },
        "outputId": "88c4f4ad-bfbd-4d6f-b59c-d8e5e97729af"
      },
      "source": [
        "print(addAllNumbers.__doc__)"
      ],
      "execution_count": null,
      "outputs": [
        {
          "output_type": "stream",
          "text": [
            "This function adds the numbers of a given list\n"
          ],
          "name": "stdout"
        }
      ]
    },
    {
      "cell_type": "markdown",
      "metadata": {
        "id": "HKL0AABH5k6m"
      },
      "source": [
        "## Return\n",
        "\n",
        "An important concept to understand is the return statement of a function. Previously, we mentioned that parameters take values from outside the function to use them inside the function. The return is kind of the opposite of that. It can be used to take a value from inside the function and make it accessible outside of the function. Before we looked only at functions that calculated a result without returning anything. This means, we calculated the sum of all numbers in a list, but only printed it. However, it might be necessary to use the result from the function somewhere else in our code, i.e. we do not want to print the result out just yet. This is when we use the return statement. Let us see how the returned value can be accessed from the outer code.\n"
      ]
    },
    {
      "cell_type": "code",
      "metadata": {
        "id": "BQ7xBqX05oZZ",
        "colab": {
          "base_uri": "https://localhost:8080/",
          "height": 35
        },
        "outputId": "3e59cb66-8573-4d42-85c0-67d30c2dcb53"
      },
      "source": [
        "#Function that instead of printing returns the calculated result.\n",
        "def addAllNumbers(myList):\n",
        "\tsumOfList = sum(myList)\n",
        "\treturn sumOfList\n",
        "\n",
        "#Assign the return value to a variable\n",
        "returnedValue = addAllNumbers([1,1,1,1]) \t#The variable returnedValue now stores the returned value (4)\n",
        "print(returnedValue)"
      ],
      "execution_count": null,
      "outputs": [
        {
          "output_type": "stream",
          "text": [
            "4\n"
          ],
          "name": "stdout"
        }
      ]
    },
    {
      "cell_type": "markdown",
      "metadata": {
        "id": "_Je6yFov5wCK"
      },
      "source": [
        "## Recursion\n",
        "Recursion is the process when a function calls itself in its code. This is a very powerful tool to write more compact and easier to understand code. Recursion is often used in searching and sorting algorithms.\n"
      ]
    },
    {
      "cell_type": "code",
      "metadata": {
        "id": "Sf7oIEmR52Su",
        "colab": {
          "base_uri": "https://localhost:8080/",
          "height": 35
        },
        "outputId": "23719cba-7cfa-4e27-90e5-0681cdcfda54"
      },
      "source": [
        "#We can make a function that calculates the factorial of a number (e.g. 5 * 4 * 3 * 2 * 1)\n",
        "\n",
        "def factorial(n):\n",
        "\tif n == 1:\n",
        "\t\t#If we arrive at n==1 stop the recursion and return.\n",
        "\t\treturn n\n",
        "\telse:\n",
        "\t\t#Call the function again with the parameter (n-1).\n",
        "\t\treturn n*factorial(n-1)\n",
        "    \n",
        "#Call the function the first time\n",
        "factorial(5)\n"
      ],
      "execution_count": null,
      "outputs": [
        {
          "output_type": "execute_result",
          "data": {
            "text/plain": [
              "120"
            ]
          },
          "metadata": {
            "tags": []
          },
          "execution_count": 124
        }
      ]
    }
  ]
}