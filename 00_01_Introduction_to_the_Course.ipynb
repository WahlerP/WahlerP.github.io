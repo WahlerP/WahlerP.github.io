{
  "nbformat": 4,
  "nbformat_minor": 0,
  "metadata": {
    "colab": {
      "name": "00.01_Introduction to the Course",
      "provenance": [],
      "collapsed_sections": [],
      "authorship_tag": "ABX9TyMlG9iM12JJrF1qC2QxAm9l",
      "include_colab_link": true
    },
    "kernelspec": {
      "name": "python3",
      "display_name": "Python 3"
    },
    "language_info": {
      "name": "python"
    }
  },
  "cells": [
    {
      "cell_type": "markdown",
      "metadata": {
        "id": "view-in-github",
        "colab_type": "text"
      },
      "source": [
        "<a href=\"https://colab.research.google.com/github/WahlerP/WahlerP.github.io/blob/main/00_01_Introduction_to_the_Course.ipynb\" target=\"_parent\"><img src=\"https://colab.research.google.com/assets/colab-badge.svg\" alt=\"Open In Colab\"/></a>"
      ]
    },
    {
      "cell_type": "markdown",
      "metadata": {
        "id": "GqMFIJ1KHgoq"
      },
      "source": [
        "this is a changed notebook\n"
      ]
    },
    {
      "cell_type": "code",
      "metadata": {
        "id": "P8THmCGWHkqh"
      },
      "source": [
        ""
      ],
      "execution_count": null,
      "outputs": []
    }
  ]
}